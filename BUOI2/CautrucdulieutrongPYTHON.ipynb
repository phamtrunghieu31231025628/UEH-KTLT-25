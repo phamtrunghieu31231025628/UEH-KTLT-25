{
 "cells": [
  {
   "cell_type": "code",
   "execution_count": 3,
   "id": "f004ba37-8192-446b-be1b-7e12140be9aa",
   "metadata": {},
   "outputs": [],
   "source": [
    "def minimumCoins(amt):\n",
    "    \"\"\"\n",
    "    input: amt (in cents)\n",
    "    output: coins\n",
    "    \"\"\"\n",
    "    coins = 0\n",
    "    coins += amt // 100\n",
    "    amt %= 100\n",
    "    coins += amt // 50\n",
    "    amt %= 50\n",
    "    coins += amt // 20\n",
    "    amt %= 20\n",
    "    coins += amt // 10\n",
    "    amt %= 10\n",
    "    coins += amt // 5\n",
    "    amt %= 5\n",
    "    coins += amt // 1 # retained for regularity\n",
    "    amt %= 1 # retained for regularity\n",
    "    return coins"
   ]
  },
  {
   "cell_type": "code",
   "execution_count": 4,
   "id": "adb43fc6-9e5d-4e7f-9c0e-2f590aaef824",
   "metadata": {},
   "outputs": [
    {
     "name": "stdout",
     "output_type": "stream",
     "text": [
      "Enter votes: \n",
      "3 3 1 2 3 3 1 3 2 1 \n",
      "3 1 3 1 2 1 1 3 1 2 \n",
      "1 3 1 1 3 2 2 1 1 2 \n",
      "1 2 1 1 3 1 3 3 2 3 \n",
      "2 2 2 2 1 3 3 3 3 1 \n",
      "1 1 3 2 2 3 1 2 2 2 \n",
      "1 1 2 2 1 2 1 3 1 2 \n",
      "2 3 3 2 2 3 3 1 1 3 \n",
      "1 3 3 1 2 1 2 2 2 1 \n",
      "2 3 2 2 1 1 1 2 3 1 \n",
      "Tom: 37; Dick: 33; Harry: 30\n",
      "\n"
     ]
    }
   ],
   "source": [
    "import random\n",
    "NUM_VOTES = 100 # number of votes\n",
    "tom = 0; dick = 0; harry = 0\n",
    "print(\"Enter votes: \")\n",
    "for i in range(NUM_VOTES):\n",
    "    vote = random.randint(1, 3) # vote = int(input())\n",
    "    print(f'{vote}', end=\" \")\n",
    "    if i%10 ==9: print()\n",
    "    match vote:\n",
    "        case 1:\n",
    "            tom = tom + 1\n",
    "        case 2:\n",
    "            dick = dick + 1\n",
    "        case 3:\n",
    "            harry = harry + 1\n",
    "        case _:\n",
    "            pass\n",
    "    pass # for\n",
    "print(f\"Tom: {tom}; Dick: {dick}; Harry: {harry}\\n\")"
   ]
  },
  {
   "cell_type": "code",
   "execution_count": 9,
   "id": "a21a2353-bcff-44fc-9d47-2f5437e26a2a",
   "metadata": {},
   "outputs": [
    {
     "name": "stdout",
     "output_type": "stream",
     "text": [
      "Candidate 1: 3 votes\n",
      "Candidate 2: 4 votes\n",
      "Candidate 3: 1 votes\n",
      "Candidate 4: 0 votes\n",
      "Candidate 5: 5 votes\n",
      "Candidate 6: 6 votes\n",
      "Candidate 7: 5 votes\n",
      "Candidate 8: 3 votes\n",
      "Candidate 9: 2 votes\n",
      "Candidate 10: 3 votes\n",
      "Candidate 11: 3 votes\n",
      "Candidate 12: 7 votes\n",
      "Candidate 13: 6 votes\n",
      "Candidate 14: 2 votes\n",
      "Candidate 15: 3 votes\n",
      "Candidate 16: 2 votes\n",
      "Candidate 17: 3 votes\n",
      "Candidate 18: 5 votes\n",
      "Candidate 19: 5 votes\n",
      "Candidate 20: 2 votes\n",
      "Candidate 21: 3 votes\n",
      "Candidate 22: 5 votes\n",
      "Candidate 23: 1 votes\n",
      "Candidate 24: 2 votes\n",
      "Candidate 25: 4 votes\n",
      "Candidate 26: 3 votes\n",
      "Candidate 27: 2 votes\n",
      "Candidate 28: 6 votes\n",
      "Candidate 29: 0 votes\n",
      "Candidate 30: 4 votes\n"
     ]
    }
   ],
   "source": [
    "import random\n",
    "\n",
    "NUM_VOTES = 100\n",
    "counts = [0] * 30   # tạo list có 30 phần tử, tất cả bằng 0\n",
    "\n",
    "for i in range(NUM_VOTES):\n",
    "    vote = random.randint(1, 30)  # số phiếu ngẫu nhiên từ 1 đến 30\n",
    "    counts[vote - 1] += 1         # cộng 1 cho ứng viên tương ứng\n",
    "\n",
    "# In kết quả\n",
    "for i, c in enumerate(counts, start=1):\n",
    "    print(f\"Candidate {i}: {c} votes\")\n"
   ]
  },
  {
   "cell_type": "code",
   "execution_count": 10,
   "id": "a502b909-782e-41d5-9394-3cae117e0905",
   "metadata": {},
   "outputs": [
    {
     "name": "stdout",
     "output_type": "stream",
     "text": [
      "Two standard ways to create an empty list:\n",
      "<class 'list'> 0 []\n",
      "<class 'list'> 0 []\n",
      "True\n"
     ]
    }
   ],
   "source": [
    "print(\"Two standard ways to create an empty list:\")\n",
    "a = [ ]\n",
    "b = list()\n",
    "print(type(a), len(a), a)\n",
    "print(type(b), len(b), b)\n",
    "print(a == b) "
   ]
  },
  {
   "cell_type": "code",
   "execution_count": 11,
   "id": "a685a3f1-7194-4f4a-b87f-fa5625dbbcde",
   "metadata": {},
   "outputs": [
    {
     "name": "stdout",
     "output_type": "stream",
     "text": [
      "<class 'list'> 1 ['hello']\n",
      "<class 'list'> 1 [42]\n",
      "False\n"
     ]
    }
   ],
   "source": [
    "a = [ \"hello\" ]\n",
    "b = [ 42 ]\n",
    "print(type(a), len(a), a)\n",
    "print(type(b), len(b), b)\n",
    "print(a == b)"
   ]
  },
  {
   "cell_type": "code",
   "execution_count": 12,
   "id": "37cc8edb-4a01-4798-90e9-3575dfeca13e",
   "metadata": {},
   "outputs": [
    {
     "name": "stdout",
     "output_type": "stream",
     "text": [
      "<class 'list'> 4 [2, 3, 5, 7]\n",
      "<class 'list'> 5 [0, 1, 2, 3, 4]\n",
      "<class 'list'> 3 ['mixed types', True, 42]\n"
     ]
    }
   ],
   "source": [
    "a = [2, 3, 5, 7]\n",
    "b = list(range(5))\n",
    "c = [\"mixed types\", True, 42]\n",
    "print(type(a), len(a), a)\n",
    "print(type(b), len(b), b)\n",
    "print(type(c), len(c), c) "
   ]
  },
  {
   "cell_type": "code",
   "execution_count": 13,
   "id": "122a8042-69a8-4b26-84d7-a0c5a59b1b24",
   "metadata": {},
   "outputs": [
    {
     "name": "stdout",
     "output_type": "stream",
     "text": [
      "<class 'list'> 10 [0, 0, 0, 0, 0, 0, 0, 0, 0, 0]\n",
      "<class 'list'> 10 [0, 1, 2, 3, 4, 5, 6, 7, 8, 9]\n"
     ]
    }
   ],
   "source": [
    "n = 10\n",
    "a = [0] * n\n",
    "b = list(range(n))\n",
    "print(type(a), len(a), a)\n",
    "print(type(b), len(b), b)"
   ]
  },
  {
   "cell_type": "code",
   "execution_count": 5,
   "id": "ddaec20e-4fff-40fb-8d7c-38e11a050e03",
   "metadata": {},
   "outputs": [
    {
     "name": "stdout",
     "output_type": "stream",
     "text": [
      "Enter votes: \n"
     ]
    },
    {
     "name": "stdin",
     "output_type": "stream",
     "text": [
      " 1\n"
     ]
    },
    {
     "name": "stdout",
     "output_type": "stream",
     "text": [
      "Results: \n",
      "+ Candidate 1: total 0,  0.00%\n",
      "+ Candidate 2: total 0,  0.00%\n",
      "+ Candidate 3: total 0,  0.00%\n",
      "+ Candidate 4: total 0,  0.00%\n",
      "+ Candidate 5: total 1,  0.10%\n",
      "+ Candidate 6: total 0,  0.00%\n",
      "+ Candidate 7: total 0,  0.00%\n",
      "+ Candidate 8: total 0,  0.00%\n",
      "+ Candidate 9: total 0,  0.00%\n",
      "+ Candidate 10: total 0,  0.00%\n",
      "+ Candidate 11: total 0,  0.00%\n",
      "+ Candidate 12: total 0,  0.00%\n",
      "+ Candidate 13: total 0,  0.00%\n",
      "+ Candidate 14: total 0,  0.00%\n",
      "+ Candidate 15: total 0,  0.00%\n",
      "+ Candidate 16: total 0,  0.00%\n",
      "+ Candidate 17: total 0,  0.00%\n",
      "+ Candidate 18: total 0,  0.00%\n",
      "+ Candidate 19: total 0,  0.00%\n",
      "+ Candidate 20: total 0,  0.00%\n",
      "+ Candidate 21: total 0,  0.00%\n",
      "+ Candidate 22: total 0,  0.00%\n",
      "+ Candidate 23: total 0,  0.00%\n",
      "+ Candidate 24: total 0,  0.00%\n",
      "+ Candidate 25: total 0,  0.00%\n",
      "+ Candidate 26: total 0,  0.00%\n",
      "+ Candidate 27: total 0,  0.00%\n",
      "+ Candidate 28: total 0,  0.00%\n",
      "+ Candidate 29: total 0,  0.00%\n",
      "+ Candidate 30: total 0,  0.00%\n"
     ]
    }
   ],
   "source": [
    "## import random\n",
    "NUM_VOTES = 1000 # number of votes\n",
    "NUM_CANDIDATES = 30 # number of candidates\n",
    "# cand = [0] * NUM_CANDIDATES\n",
    "cand = [0 for _\n",
    "in range(NUM_CANDIDATES)]\n",
    "print(\"Enter votes: \")\n",
    "for i in range(1, NUM_VOTES + 1):\n",
    "    vote = random.randint(1, NUM_CANDIDATES) # vote =\n",
    "int(input())\n",
    "cand[vote-1] = cand[vote-1] + 1\n",
    "print(\"Results: \")\n",
    "for i in range(NUM_CANDIDATES):\n",
    "    print(f\"+ Candidate {i+1}: total {cand[i]}, {(cand[i] *100.0)/NUM_VOTES: .2f}%\")"
   ]
  },
  {
   "cell_type": "code",
   "execution_count": 7,
   "id": "3ddb5a5a-cffc-4cad-bcf0-d8694e57d186",
   "metadata": {},
   "outputs": [],
   "source": [
    "def minimumCoins_v2(amt):\n",
    "    denoms = [100,50,20,10,5,1]\n",
    "    coins = 0\n",
    "    for i in range(len(denoms)):\n",
    "        coins = coins + amt//denoms[i];\n",
    "        amt %= denoms[i];\n",
    "    return coins"
   ]
  },
  {
   "cell_type": "code",
   "execution_count": 8,
   "id": "ff0cb7f4-67d0-4a5d-83c2-5b5853822b72",
   "metadata": {},
   "outputs": [
    {
     "name": "stdout",
     "output_type": "stream",
     "text": [
      "a = [0, 1, 2, 3, 4, 5, 6, 7, 8, 9]\n"
     ]
    }
   ],
   "source": [
    "a = []\n",
    "for i in range(10):\n",
    "    a.append(i)\n",
    "print(f'a = {a}')\n"
   ]
  },
  {
   "cell_type": "code",
   "execution_count": 9,
   "id": "69d591bd-967b-4eb6-b027-4e723ca1496d",
   "metadata": {},
   "outputs": [
    {
     "name": "stdout",
     "output_type": "stream",
     "text": [
      "source = 0x25eeddb3880\n",
      "dest = 0x25eeddb3880\n"
     ]
    }
   ],
   "source": [
    "source = [ 10, 20, 30, 40, 50, 0 , 0 , 0 , 0 , 0 ]\n",
    "dest = source # illegal by same pointing!\n",
    "print(f'source = {hex(id(source))}\\ndest = {hex(id(dest))}')\n"
   ]
  },
  {
   "cell_type": "code",
   "execution_count": 10,
   "id": "c94daf03-2f17-4421-b0a1-6931c84cc25b",
   "metadata": {},
   "outputs": [
    {
     "name": "stdout",
     "output_type": "stream",
     "text": [
      "source -> 0x25eeddb35c0 = [10, 20, 30, 40, 50, 0, 0, 0, 0]\n",
      "dest -> 0x25eeddb1740 = [10, 20, 30, 40, 50, 0, 0, 0, 0]\n"
     ]
    }
   ],
   "source": [
    "source = [ 10, 20, 30, 40, 50, 0, 0, 0, 0 ]\n",
    "# dest = [x for x in source]\n",
    "dest = []\n",
    "for i in range(len(source)):\n",
    "    dest.append(source[i])\n",
    "print(f'source -> {hex(id(source))} = {source}')\n",
    "print(f'dest -> {hex(id(dest))} = {dest}')"
   ]
  },
  {
   "cell_type": "code",
   "execution_count": 11,
   "id": "fb5b976c-c807-4389-a1be-3b32ba5762c4",
   "metadata": {},
   "outputs": [
    {
     "name": "stdout",
     "output_type": "stream",
     "text": [
      "sum is 89\n",
      "sum is 70\n",
      "sum is 16\n"
     ]
    }
   ],
   "source": [
    "def sumArray(arr):\n",
    "    total = 0\n",
    "    for i in range(len(arr)):\n",
    "        total = total + arr[i];\n",
    "    return total\n",
    "foo = [ 44, 9, 17, 1, -4, 22]\n",
    "bar = [ 2, 8, 6]\n",
    "print(\"sum is %d\"%sumArray(foo));\n",
    "print(\"sum is %d\"%sumArray(foo[:3]));\n",
    "print(\"sum is %d\"%sumArray(bar))\n"
   ]
  },
  {
   "cell_type": "code",
   "execution_count": 12,
   "id": "82529737-0f4d-4034-91c1-e21447d1673f",
   "metadata": {},
   "outputs": [
    {
     "name": "stdout",
     "output_type": "stream",
     "text": [
      "arr with len 10 = [12, 21, 23, 13, 20, 27, 26, 11, 11, 18]\n"
     ]
    }
   ],
   "source": [
    "import math\n",
    "random.seed(49)\n",
    "def scanArray(size):\n",
    "    # You may add a prompt for user here\n",
    "    arr = []\n",
    "    for i in range(size):\n",
    "        x = input(float())\n",
    "        arr.append(size)\n",
    "    return arr\n",
    "def randArray(vmin, vmax, size):\n",
    "    # You may add a prompt for user here\n",
    "    arr = []\n",
    "    for i in range(size):\n",
    "        x = random.randint(vmin, vmax)\n",
    "        arr.append(x)\n",
    "    return arr\n",
    "arr = randArray(10, 30, 10)\n",
    "print(f'arr with len {len(arr)} = {arr}')\n"
   ]
  },
  {
   "cell_type": "code",
   "execution_count": 13,
   "id": "20c9f9fe-c750-492d-9bf4-ebd0d30c5150",
   "metadata": {},
   "outputs": [
    {
     "name": "stdout",
     "output_type": "stream",
     "text": [
      "arr with len 10 = [12, 21, 23, 13, 20, 27, 26, 11, 11, 18]\n",
      "double array with len 10 = [24, 42, 46, 26, 40, 54, 52, 22, 22, 36]\n"
     ]
    }
   ],
   "source": [
    "import math\n",
    "random.seed(49)\n",
    "def doubleArray(arr):\n",
    "    for i in range(len(arr)):\n",
    "        arr[i] = arr[i] * 2\n",
    "    pass # doubleArray\n",
    "arr = randArray(10, 30, 10)\n",
    "print(f'arr with len {len(arr)} = {arr}')\n",
    "doubleArray(arr)\n",
    "print(f'double array with len {len(arr)} = {arr}')"
   ]
  },
  {
   "cell_type": "code",
   "execution_count": 14,
   "id": "7cf7b3dc-23d5-424f-82fc-7d4e888d4f9e",
   "metadata": {},
   "outputs": [
    {
     "name": "stdin",
     "output_type": "stream",
     "text": [
      "Nhập mảng (các số cách nhau bởi khoảng trắng):  1\n"
     ]
    },
    {
     "name": "stdout",
     "output_type": "stream",
     "text": [
      "Mảng vừa nhập: [1]\n"
     ]
    }
   ],
   "source": [
    "import math\n",
    "\n",
    "# ---------------------------\n",
    "# 1. Các thao tác nhập xuất\n",
    "# ---------------------------\n",
    "\n",
    "# a. Nhập mảng\n",
    "a = list(map(int, input(\"Nhập mảng (các số cách nhau bởi khoảng trắng): \").split()))\n",
    "\n",
    "# b. Xuất mảng\n",
    "print(\"Mảng vừa nhập:\", a)\n"
   ]
  },
  {
   "cell_type": "code",
   "execution_count": 15,
   "id": "e6f78acf-0661-41fd-9977-ae8e02be732e",
   "metadata": {},
   "outputs": [
    {
     "name": "stdout",
     "output_type": "stream",
     "text": [
      "Mảng toàn chẵn? False\n",
      "Mảng toàn nguyên tố? False\n",
      "Mảng tăng dần? True\n"
     ]
    }
   ],
   "source": [
    "# 2. Các thao tác kiểm tra\n",
    "# ---------------------------\n",
    "\n",
    "# Hàm kiểm tra số nguyên tố\n",
    "def is_prime(n):\n",
    "    if n < 2:\n",
    "        return False\n",
    "    for i in range(2, int(math.sqrt(n)) + 1):\n",
    "        if n % i == 0:\n",
    "            return False\n",
    "    return True\n",
    "\n",
    "# a. Mảng toàn chẵn\n",
    "print(\"Mảng toàn chẵn?\", all(x % 2 == 0 for x in a))\n",
    "\n",
    "# b. Mảng toàn số nguyên tố\n",
    "print(\"Mảng toàn nguyên tố?\", all(is_prime(x) for x in a))\n",
    "\n",
    "# c. Mảng tăng dần\n",
    "print(\"Mảng tăng dần?\", all(a[i] <= a[i+1] for i in range(len(a)-1)))\n"
   ]
  },
  {
   "cell_type": "code",
   "execution_count": 16,
   "id": "d098bc15-9535-44b1-b3d4-8be2b2d535e0",
   "metadata": {},
   "outputs": [
    {
     "name": "stdout",
     "output_type": "stream",
     "text": [
      "Số lượng chia hết cho 4 nhưng không chia hết cho 5: 0\n",
      "Tổng các số nguyên tố: 0\n"
     ]
    }
   ],
   "source": [
    "# 3. Các thao tác tính toán\n",
    "# ---------------------------\n",
    "\n",
    "# a. Có bao nhiêu số chia hết cho 4 nhưng không chia hết cho 5\n",
    "count_div4_not5 = sum(1 for x in a if x % 4 == 0 and x % 5 != 0)\n",
    "print(\"Số lượng chia hết cho 4 nhưng không chia hết cho 5:\", count_div4_not5)\n",
    "\n",
    "# b. Tổng các số nguyên tố\n",
    "sum_primes = sum(x for x in a if is_prime(x))\n",
    "print(\"Tổng các số nguyên tố:\", sum_primes)"
   ]
  },
  {
   "cell_type": "code",
   "execution_count": 17,
   "id": "a3d9fc5b-4c0f-4230-8cef-e9bff62df648",
   "metadata": {},
   "outputs": [
    {
     "name": "stdin",
     "output_type": "stream",
     "text": [
      "Nhập số cần tìm x:  2\n"
     ]
    },
    {
     "name": "stdout",
     "output_type": "stream",
     "text": [
      "2 không có trong mảng\n",
      "Vị trí số nguyên tố đầu tiên: -1\n",
      "Số nhỏ nhất trong mảng: 1\n",
      "Số dương nhỏ nhất: 1\n",
      "Mảng b (nguyên tố): []\n",
      "Mảng b (dương): [1]\n",
      "Mảng c (còn lại): []\n",
      "Mảng giảm dần: [1]\n",
      "Mảng sau sắp xếp đặc biệt: [1]\n",
      "Mảng sau khi sửa số nguyên tố thành 0: [1]\n",
      "Mảng sau khi chèn 0: [1]\n",
      "Mảng sau khi xóa số nguyên tố: [1]\n"
     ]
    }
   ],
   "source": [
    "\n",
    "# ---------------------------\n",
    "# 4. Các thao tác tìm kiếm\n",
    "# ---------------------------\n",
    "\n",
    "# a. Vị trí cuối cùng của phần tử x\n",
    "x = int(input(\"Nhập số cần tìm x: \"))\n",
    "if x in a:\n",
    "    print(\"Vị trí cuối cùng của\", x, \":\", len(a) - 1 - a[::-1].index(x))\n",
    "else:\n",
    "    print(x, \"không có trong mảng\")\n",
    "\n",
    "# b. Vị trí số nguyên tố đầu tiên\n",
    "pos_prime = next((i for i, val in enumerate(a) if is_prime(val)), -1)\n",
    "print(\"Vị trí số nguyên tố đầu tiên:\", pos_prime)\n",
    "\n",
    "# c. Tìm số nhỏ nhất\n",
    "print(\"Số nhỏ nhất trong mảng:\", min(a))\n",
    "\n",
    "# d. Tìm số dương nhỏ nhất\n",
    "positive_numbers = [x for x in a if x > 0]\n",
    "if positive_numbers:\n",
    "    print(\"Số dương nhỏ nhất:\", min(positive_numbers))\n",
    "else:\n",
    "    print(\"Không có số dương trong mảng\")\n",
    "\n",
    "\n",
    "# ---------------------------\n",
    "# 5. Các thao tác xử lý\n",
    "# ---------------------------\n",
    "\n",
    "# a. Tách số nguyên tố ra mảng b\n",
    "b = [x for x in a if is_prime(x)]\n",
    "print(\"Mảng b (nguyên tố):\", b)\n",
    "\n",
    "# b. Tách thành b (dương) và c (còn lại)\n",
    "b = [x for x in a if x > 0]\n",
    "c = [x for x in a if x <= 0]\n",
    "print(\"Mảng b (dương):\", b)\n",
    "print(\"Mảng c (còn lại):\", c)\n",
    "\n",
    "# c. Sắp xếp mảng giảm dần\n",
    "sorted_desc = sorted(a, reverse=True)\n",
    "print(\"Mảng giảm dần:\", sorted_desc)\n",
    "\n",
    "# d. Sắp xếp theo yêu cầu\n",
    "positives = sorted([x for x in a if x > 0], reverse=True)\n",
    "negatives = sorted([x for x in a if x < 0])\n",
    "zeros = [x for x in a if x == 0]\n",
    "custom_sorted = positives + negatives + zeros\n",
    "print(\"Mảng sau sắp xếp đặc biệt:\", custom_sorted)\n",
    "\n",
    "\n",
    "# ---------------------------\n",
    "# 6. Các thao tác thêm/xóa/sửa\n",
    "# ---------------------------\n",
    "\n",
    "# a. Sửa số nguyên tố thành 0\n",
    "modified = [0 if is_prime(x) else x for x in a]\n",
    "print(\"Mảng sau khi sửa số nguyên tố thành 0:\", modified)\n",
    "\n",
    "# b. Chèn số 0 sau các số nguyên tố\n",
    "inserted = []\n",
    "for x in a:\n",
    "    inserted.append(x)\n",
    "    if is_prime(x):\n",
    "        inserted.append(0)\n",
    "print(\"Mảng sau khi chèn 0:\", inserted)\n",
    "\n",
    "# c. Xóa tất cả số nguyên tố\n",
    "removed = [x for x in a if not is_prime(x)]\n",
    "print(\"Mảng sau khi xóa số nguyên tố:\", removed)\n"
   ]
  },
  {
   "cell_type": "code",
   "execution_count": 18,
   "id": "daf55fc0-867c-4a28-9c0b-fda41bb3985e",
   "metadata": {},
   "outputs": [
    {
     "name": "stdout",
     "output_type": "stream",
     "text": [
      "numbers: [10, 12, 13, 10, 12]\n"
     ]
    }
   ],
   "source": [
    "import random\n",
    "random.seed(49)\n",
    "# Nhập mảng ngẫu nhiên\n",
    "numbers = [random.randint(10, 15) for _ in range(5)]\n",
    "print(f'numbers: {numbers}')\n"
   ]
  },
  {
   "cell_type": "code",
   "execution_count": 19,
   "id": "ad1fff72-5370-4ce4-89d2-42866c2f3c44",
   "metadata": {},
   "outputs": [
    {
     "name": "stdin",
     "output_type": "stream",
     "text": [
      "Input 0: 2\n",
      "Input 1: 1\n",
      "Input 2: 2\n",
      "Input 3: 3\n",
      "Input 4: 4\n"
     ]
    },
    {
     "name": "stdout",
     "output_type": "stream",
     "text": [
      "numbers: [2, 1, 2, 3, 4]\n"
     ]
    }
   ],
   "source": [
    "import random\n",
    "random.seed(49)\n",
    "# Nhập mảng từ bàn phím\n",
    "def input_array(size):\n",
    "    numbers = []\n",
    "    for i in range(size):\n",
    "        numbers.append(int(input(f\"Input {i}:\")))\n",
    "    return numbers\n",
    "numbers = input_array(5)\n",
    "print(f'numbers: {numbers}')"
   ]
  },
  {
   "cell_type": "code",
   "execution_count": 20,
   "id": "925be483-73a6-475c-a3a0-9fe0b30fd9f8",
   "metadata": {},
   "outputs": [
    {
     "name": "stdout",
     "output_type": "stream",
     "text": [
      "Total all: 110\n",
      "Total from 0 to 2: 57\n",
      "Total from 1 to -1: 81\n"
     ]
    }
   ],
   "source": [
    "# Xử lý mảng\n",
    "def sumArray(arr):\n",
    "    total = 0\n",
    "    for i in range(len(arr)):\n",
    "        total = total + arr[i]\n",
    "    return total\n",
    "    pass # sumArray\n",
    "\n",
    "# Gọi mảng\n",
    "arr = [20, 12, 25, 8, 36, 9]\n",
    "print(f'Total all: {sumArray(arr)}')\n",
    "print(f'Total from 0 to 2: {sumArray(arr[:3])}')\n",
    "print(f'Total from 1 to -1: {sumArray(arr[1:-1])}')\n"
   ]
  },
  {
   "cell_type": "code",
   "execution_count": 21,
   "id": "2242d3de-8571-4603-9aa3-f050b1d882b1",
   "metadata": {},
   "outputs": [
    {
     "name": "stdout",
     "output_type": "stream",
     "text": [
      "36\n"
     ]
    }
   ],
   "source": [
    "def findMax(arr):\n",
    "    max = None\n",
    "    for i in range(len(arr)):\n",
    "        if max is None or arr[i] > max:\n",
    "            max = arr[i]\n",
    "    return max\n",
    "    pass # findMax\n",
    "arr = [20, 12, 25, 8, 36, 9]\n",
    "print(findMax(arr))"
   ]
  },
  {
   "cell_type": "code",
   "execution_count": 22,
   "id": "fb3d8d4b-a21a-4731-9d8d-287d51380971",
   "metadata": {},
   "outputs": [
    {
     "name": "stdout",
     "output_type": "stream",
     "text": [
      "110\n"
     ]
    }
   ],
   "source": [
    "def sumArr(arr):\n",
    "    total = 0\n",
    "    for i in range(len(arr)):\n",
    "        total = total + arr[i]\n",
    "    return total\n",
    "    pass # sumArr\n",
    "arr = [20, 12, 25, 8, 36, 9]\n",
    "print(sumArr(arr))"
   ]
  },
  {
   "cell_type": "code",
   "execution_count": 23,
   "id": "39266e92-2ade-4b98-8a35-d1e1218b71d2",
   "metadata": {},
   "outputs": [
    {
     "name": "stdout",
     "output_type": "stream",
     "text": [
      "81\n"
     ]
    }
   ],
   "source": [
    "def sumAlt(arr):\n",
    "    sum = 0\n",
    "    for i in range(0,len(arr),2):\n",
    "        sum += arr[i]\n",
    "    return sum\n",
    "    pass # sumAlt\n",
    "arr = [20, 12, 25, 8, 36, 9]\n",
    "print(sumAlt(arr))"
   ]
  },
  {
   "cell_type": "code",
   "execution_count": 24,
   "id": "1843a27d-25f8-4a87-a33a-d6181ed97e4a",
   "metadata": {},
   "outputs": [
    {
     "name": "stdout",
     "output_type": "stream",
     "text": [
      "34\n"
     ]
    }
   ],
   "source": [
    "def sumOdd(arr):\n",
    "    sum = 0\n",
    "    for i in range(len(arr)):\n",
    "        if arr[i]%2 == 1:\n",
    "            sum += arr[i]\n",
    "    return sum\n",
    "    pass # sumOdd\n",
    "arr = [20, 12, 25, 8, 36, 9]\n",
    "print(sumOdd(arr))"
   ]
  },
  {
   "cell_type": "code",
   "execution_count": 26,
   "id": "1daffbb5-34b8-45ef-a92b-88d83a014e25",
   "metadata": {},
   "outputs": [],
   "source": [
    "count, sum = 0, 0\n",
    "i = len(arr) - 1\n",
    "while count < 3:\n",
    "    ...\n",
    "    count = count + 1\n",
    "    i = i - 1\n",
    "    pass # while"
   ]
  },
  {
   "cell_type": "code",
   "execution_count": 35,
   "id": "f1ea7c96-d4cd-42d9-9e64-3dde5fab1f76",
   "metadata": {},
   "outputs": [
    {
     "name": "stdout",
     "output_type": "stream",
     "text": [
      "sumLast3([]) = 0\n",
      "sumLast3([5]) = 5\n",
      "sumLast3([12, -3]) = 9\n",
      "sumLast3([20, 12, 25, 8, 36, 9]) = 53\n",
      "sumLast3([-1, 2, -3, 4, -5, 6, -7, 8, 9, 10]) = 27\n"
     ]
    }
   ],
   "source": [
    "def sumLast3(arr):\n",
    "    count, s = 0, 0\n",
    "    i = len(arr) - 1\n",
    "    while i >= 0 and count < 3:\n",
    "        s += arr[i]\n",
    "        count += 1\n",
    "        i -= 1\n",
    "    return s   \n",
    "a = []\n",
    "print(f'sumLast3({a}) = {sumLast3(a)}')\n",
    "\n",
    "a = [5]\n",
    "print(f'sumLast3({a}) = {sumLast3(a)}')\n",
    "\n",
    "a = [12, -3]\n",
    "print(f'sumLast3({a}) = {sumLast3(a)}')\n",
    "\n",
    "a = [20, 12, 25, 8, 36, 9]\n",
    "print(f'sumLast3({a}) = {sumLast3(a)}')\n",
    "\n",
    "a = [-1, 2, -3, 4, -5, 6, -7, 8, 9, 10]\n",
    "print(f'sumLast3({a}) = {sumLast3(a)}')\n",
    "\n"
   ]
  },
  {
   "cell_type": "code",
   "execution_count": 36,
   "id": "cadc7809-e4ba-4854-b5fd-2ec215ae80bf",
   "metadata": {},
   "outputs": [
    {
     "name": "stdout",
     "output_type": "stream",
     "text": [
      "minPairDiff([20, 12, 25, 8, 36, 9]) = 1\n",
      "minPairDiff([431, 945, 64, 841, 783, 107, 598]) = 43\n"
     ]
    }
   ],
   "source": [
    "def minPairDiff(arr):\n",
    "    minDiff = abs(arr[0] - arr[1]) # init min diff\n",
    "    for i in range(len(arr)-1):\n",
    "        for j in range(i+1, len(arr)):\n",
    "            diff = abs(arr[i] - arr[j])\n",
    "            if diff < minDiff:\n",
    "                minDiff = diff\n",
    "        pass # i\n",
    "    return minDiff\n",
    "    pass # minPairDiff\n",
    "a = [ 20, 12, 25, 8, 36, 9]; print(f'minPairDiff({a}) = {minPairDiff(a)}')\n",
    "a = [ 431, 945, 64, 841, 783, 107, 598 ]; print(f'minPairDiff({a}) = {minPairDiff(a)}')\n"
   ]
  },
  {
   "cell_type": "code",
   "execution_count": 37,
   "id": "5a8c5e27-1904-4530-a0e4-88a8320a6155",
   "metadata": {},
   "outputs": [],
   "source": [
    "# array with 3 rows, 5 columns\n",
    "a = [[0 for _ in range(5)] for _ in range(3)]\n",
    "a[0][0] = 2\n",
    "a[2][4] = 9\n",
    "a[1][0] = a[2][4] + 7"
   ]
  },
  {
   "cell_type": "code",
   "execution_count": 38,
   "id": "9a834aa6-c988-40b5-a83a-e27ff308ba03",
   "metadata": {},
   "outputs": [
    {
     "name": "stdout",
     "output_type": "stream",
     "text": [
      "Print a: \n",
      "2 0 0 0 0 \n",
      "16 0 0 0 0 \n",
      "0 0 0 0 9 \n",
      "\n"
     ]
    }
   ],
   "source": [
    "def print2darr(arr):\n",
    "    for i in range(len(arr)):\n",
    "        for j in range(len(arr[i])):\n",
    "            print(f'{arr[i][j]}', end = \" \")\n",
    "        print()\n",
    "    print()\n",
    "    pass # print2darr\n",
    "print('Print a: '); print2darr(a);"
   ]
  },
  {
   "cell_type": "code",
   "execution_count": 39,
   "id": "70c5b38d-899e-4de9-98d2-07d39a37ad2e",
   "metadata": {},
   "outputs": [
    {
     "name": "stdout",
     "output_type": "stream",
     "text": [
      "Print maxtrix: \n",
      "3 8 2 \n",
      "-5 2 0 \n",
      "1 -4 9 \n",
      "\n",
      "Print temperatures: \n",
      "6.8 35.2 42.3 95.5 11.3 33.1 77.0 56.7 52.3 82.7 5.0 69.6 4.5 77.6 75.3 28.2 15.8 46.5 75.1 4.6 64.5 55.9 51.6 22.4 87.6 91.2 61.7 29.2 58.7 38.0 40.9 \n",
      "3.1 25.4 74.3 14.1 9.8 43.3 74.6 38.5 33.4 79.0 36.6 27.4 67.1 40.8 98.4 96.8 62.9 63.5 5.3 67.7 42.2 70.4 55.7 93.1 62.8 21.1 66.5 78.8 93.1 6.7 57.6 \n",
      "26.1 55.3 61.0 54.5 32.6 13.8 49.9 96.0 22.7 33.4 26.1 59.6 44.7 98.3 62.6 50.1 70.9 71.9 51.1 78.1 38.8 27.5 98.9 94.0 79.5 70.6 56.1 2.2 55.5 93.4 15.2 \n",
      "1.1 20.4 94.7 8.6 87.4 96.4 96.5 84.8 31.0 6.4 5.4 70.9 71.9 38.3 71.1 67.9 5.9 44.7 87.4 33.5 86.3 7.5 48.6 19.7 77.9 43.6 30.4 73.4 49.3 16.2 26.7 \n",
      "45.0 34.9 98.9 10.6 10.5 73.2 41.6 50.5 87.5 46.7 66.6 9.2 97.2 68.9 61.8 7.3 66.2 94.9 23.7 24.9 41.6 34.7 53.7 57.7 89.2 0.9 68.4 18.2 38.0 36.8 90.1 \n",
      "10.5 62.8 87.1 74.1 11.9 17.8 60.7 26.9 77.5 61.1 43.8 8.3 26.2 79.7 94.1 36.8 98.4 72.4 69.2 68.9 99.8 52.9 73.9 13.7 46.6 68.0 12.5 78.4 57.9 47.4 92.8 \n",
      "87.4 58.5 13.2 75.7 67.6 38.5 62.6 2.7 26.1 52.3 11.3 35.1 61.4 57.9 32.0 99.6 43.3 97.2 96.5 93.6 74.0 66.4 53.1 53.9 87.6 55.1 74.7 94.0 24.3 0.8 23.1 \n",
      "3.4 32.9 7.9 49.9 46.1 26.5 83.1 92.2 83.0 57.3 3.1 97.5 42.3 74.0 70.5 83.6 52.8 26.4 90.6 11.9 44.9 22.4 86.8 87.6 3.0 90.2 48.9 60.6 98.2 15.6 26.7 \n",
      "41.0 17.5 27.6 95.9 59.6 22.8 77.9 17.0 87.9 22.4 61.9 94.6 31.9 36.5 94.8 21.9 4.7 11.8 43.8 4.1 71.8 12.6 9.1 93.9 9.0 51.9 43.9 98.9 20.4 52.2 70.4 \n",
      "28.4 95.8 28.3 19.5 48.0 44.9 65.6 92.7 30.1 32.0 74.0 89.4 1.3 30.9 68.8 67.6 20.5 84.8 12.8 66.2 84.4 73.2 77.3 33.7 23.3 11.9 3.6 9.9 74.4 99.0 93.7 \n",
      "34.7 9.8 63.2 97.5 42.7 78.9 64.5 24.0 93.2 4.9 87.7 71.6 23.4 36.5 53.8 28.1 8.4 99.8 79.6 13.4 69.4 34.5 87.2 57.1 10.5 96.0 22.5 6.4 9.8 7.0 48.1 \n",
      "8.6 72.3 25.0 24.5 34.0 50.9 47.8 32.1 36.7 72.2 20.2 31.9 56.8 5.7 18.3 49.6 29.9 45.5 8.9 81.5 6.5 72.5 46.6 25.4 42.9 65.7 73.3 93.7 76.3 76.3 78.6 \n",
      "\n",
      "Print marks[0]: \n",
      "76 80 62 \n",
      "60 72 48 \n",
      "76 80 62 \n",
      "60 72 48 \n",
      "\n",
      "Print marks[1]: \n",
      "76 80 62 \n",
      "60 72 48 \n",
      "76 80 62 \n",
      "60 72 48 \n",
      "\n",
      "Print marks[2]: \n",
      "76 80 62 \n",
      "60 72 48 \n",
      "76 80 62 \n",
      "60 72 48 \n",
      "\n",
      "Print marks[3]: \n",
      "76 80 62 \n",
      "60 72 48 \n",
      "76 80 62 \n",
      "60 72 48 \n",
      "\n"
     ]
    }
   ],
   "source": [
    "import random\n",
    "maxtrix = [[3, 8, 2], [-5, 2, 0], [1, -4, 9]]\n",
    "temperatures = [[random.randint(0, 1000)/10 for _ in range (31)] for _ in range(12)]\n",
    "marks = [\n",
    "    [[76, 80, 62], [60, 72, 48], [76, 80, 62], [60, 72, 48]], # Emily\n",
    "    [[76, 80, 62], [60, 72, 48], [76, 80, 62], [60, 72, 48]], # Zhass\n",
    "    [[76, 80, 62], [60, 72, 48], [76, 80, 62], [60, 72, 48]], # Jerna\n",
    "    [[76, 80, 62], [60, 72, 48], [76, 80, 62], [60, 72, 48]], # Suise\n",
    "]\n",
    "print('Print maxtrix: '); print2darr(maxtrix)\n",
    "print('Print temperatures: '); print2darr(temperatures);\n",
    "for i in range(len(marks)):\n",
    "    print(f'Print marks[{i}]: ')\n",
    "    print2darr(marks[i]); "
   ]
  },
  {
   "cell_type": "code",
   "execution_count": 40,
   "id": "fc642a7b-4c96-4803-a279-ee92b7c6ea3b",
   "metadata": {},
   "outputs": [
    {
     "name": "stdout",
     "output_type": "stream",
     "text": [
      "Sum is 26\n",
      "Sum is 14\n"
     ]
    }
   ],
   "source": [
    "# To sum all elements in arr\n",
    "def sumArray(arr):\n",
    "    total = 0\n",
    "    for i in range(len(arr)):\n",
    "        for j in range(len(arr[i])):\n",
    "            total = total + arr[i][j]\n",
    "    return total\n",
    "    pass # sumArray\n",
    "# slicer index in 2d-array\n",
    "foo= [ [3,7,1], [2,1], [4,6,2] ]\n",
    "print(\"Sum is %d\" % sumArray(foo)) # sum all\n",
    "print(\"Sum is %d\" % sumArray(foo[:2])) # sum on row 0, 1"
   ]
  },
  {
   "cell_type": "code",
   "execution_count": 42,
   "id": "053c652d-6a54-419f-bc22-c5296edc5ff0",
   "metadata": {},
   "outputs": [
    {
     "name": "stdout",
     "output_type": "stream",
     "text": [
      "Two standard ways to create an empty list:\n",
      "<class 'list'> 0 []\n",
      "<class 'list'> 0 []\n",
      "True\n"
     ]
    }
   ],
   "source": [
    "print(\"Two standard ways to create an empty list:\")\n",
    "a = [ ]\n",
    "b = list()\n",
    "print(type(a), len(a), a)\n",
    "print(type(b), len(b), b) \n",
    "print(a == b)"
   ]
  },
  {
   "cell_type": "code",
   "execution_count": 43,
   "id": "7deda38c-e308-4894-b391-eb82a7b865fc",
   "metadata": {},
   "outputs": [
    {
     "name": "stdout",
     "output_type": "stream",
     "text": [
      "<class 'list'> 1 ['hello']\n",
      "<class 'list'> 1 [42]\n",
      "False\n"
     ]
    }
   ],
   "source": [
    "a = [ \"hello\" ]\n",
    "b = [ 42 ]\n",
    "print(type(a), len(a), a)\n",
    "print(type(b), len(b), b)\n",
    "print(a == b)"
   ]
  },
  {
   "cell_type": "code",
   "execution_count": 44,
   "id": "b603058b-8eed-47af-8e27-74a0f728904c",
   "metadata": {},
   "outputs": [
    {
     "name": "stdout",
     "output_type": "stream",
     "text": [
      "<class 'list'> 4 [2, 3, 5, 7]\n",
      "<class 'list'> 5 [0, 1, 2, 3, 4]\n",
      "<class 'list'> 3 ['mixed types', True, 42]\n"
     ]
    }
   ],
   "source": [
    "a = [2, 3, 5, 7]\n",
    "b = list(range(5))\n",
    "c = [\"mixed types\", True, 42]\n",
    "print(type(a), len(a), a)\n",
    "print(type(b), len(b), b)\n",
    "print(type(c), len(c), c)"
   ]
  },
  {
   "cell_type": "code",
   "execution_count": 45,
   "id": "a94fcd8c-c47c-455b-838a-8e5a18fded1f",
   "metadata": {},
   "outputs": [
    {
     "name": "stdout",
     "output_type": "stream",
     "text": [
      "<class 'list'> 10 [0, 0, 0, 0, 0, 0, 0, 0, 0, 0]\n",
      "<class 'list'> 10 [0, 1, 2, 3, 4, 5, 6, 7, 8, 9]\n"
     ]
    }
   ],
   "source": [
    "n = 10\n",
    "a = [0] * n\n",
    "b = list(range(n))\n",
    "print(type(a), len(a), a)\n",
    "print(type(b), len(b), b)"
   ]
  },
  {
   "cell_type": "code",
   "execution_count": 48,
   "id": "529b997d-c9a9-42be-ba1c-28c75e24a31d",
   "metadata": {},
   "outputs": [
    {
     "name": "stdout",
     "output_type": "stream",
     "text": [
      "a = [2, 3, 5, 7, 11, 13]\n",
      "a[0] = 2\n",
      "a[2] = 5\n",
      "a[-1] = 13\n",
      "a[-3] = 7\n",
      "a[0:2] = [2, 3]\n",
      "a[1:4] = [3, 5, 7]\n",
      "a[1:6:2] = [3, 7, 13]\n"
     ]
    }
   ],
   "source": [
    "a = [2, 3, 5, 7, 11, 13]\n",
    "print(\"a =\", a)\n",
    "print(\"a[0] =\", a[0])\n",
    "print(\"a[2] =\", a[2])\n",
    "# Chi so am\n",
    "print(\"a[-1] =\", a[-1])\n",
    "print(\"a[-3] =\", a[-3])\n",
    "# mot khoang nam trong list\n",
    "print(\"a[0:2] =\", a[0:2])\n",
    "print(\"a[1:4] =\", a[1:4])\n",
    "print(\"a[1:6:2] =\", a[1:6:2])"
   ]
  },
  {
   "cell_type": "code",
   "execution_count": 49,
   "id": "9ec9c98c-742e-47d8-8dae-080fa3e92961",
   "metadata": {},
   "outputs": [
    {
     "name": "stdout",
     "output_type": "stream",
     "text": [
      "[42, 99, 5, 7]\n",
      "[42, 99, 5, 7]\n"
     ]
    }
   ],
   "source": [
    "# Tao mot list a\n",
    "a = [ 2, 3, 5, 7 ]\n",
    "# Tao mot bi danh den list a\n",
    "b = a\n",
    "# Co hai tham chieu cung mot list\n",
    "a[0] = 42\n",
    "b[1] = 99\n",
    "print(a)\n",
    "print(b)"
   ]
  },
  {
   "cell_type": "code",
   "execution_count": 50,
   "id": "b4ce5682-da4b-4e80-b9e0-e26f5b6deda9",
   "metadata": {},
   "outputs": [
    {
     "name": "stdout",
     "output_type": "stream",
     "text": [
      "initially:\n",
      " a==b : True\n",
      " a==c : True\n",
      " a is b: True\n",
      " a is c: False\n",
      "After changing a[0] to 42\n",
      " a= [42, 3, 5, 7]\n",
      " b= [42, 3, 5, 7]\n",
      " c= [2, 3, 5, 7]\n",
      " a==b : True\n",
      " a==c : False\n",
      " a is b: True\n",
      " a is c: False\n"
     ]
    }
   ],
   "source": [
    "a = [ 2, 3, 5, 7 ]\n",
    "b = a\n",
    "c = [ 2, 3, 5, 7 ]\n",
    "print(\"initially:\")\n",
    "print(\" a==b :\", a==b)\n",
    "print(\" a==c :\", a==c)\n",
    "print(\" a is b:\", a is b)\n",
    "print(\" a is c:\", a is c)\n",
    "a[0] = 42\n",
    "print(\"After changing a[0] to 42\")\n",
    "print(\" a=\",a)\n",
    "print(\" b=\",b)\n",
    "print(\" c=\",c)\n",
    "print(\" a==b :\", a==b)\n",
    "print(\" a==c :\", a==c)\n",
    "print(\" a is b:\", a is b)\n",
    "print(\" a is c:\", a is c)"
   ]
  },
  {
   "cell_type": "code",
   "execution_count": 51,
   "id": "f0dfb237-49ff-4eef-b22d-567cc2f85bd8",
   "metadata": {},
   "outputs": [
    {
     "name": "stdout",
     "output_type": "stream",
     "text": [
      "a = [2, 3, 5, 2, 6, 2, 2, 7]\n",
      "2 in a = True\n",
      "4 in a = False\n"
     ]
    }
   ],
   "source": [
    "a = [ 2, 3, 5, 2, 6, 2, 2, 7 ]\n",
    "print(\"a =\", a)\n",
    "print(\"2 in a =\", (2 in a))\n",
    "print(\"4 in a =\", (4 in a))"
   ]
  },
  {
   "cell_type": "code",
   "execution_count": 52,
   "id": "8729c9f0-1313-49d7-bd41-233aa947f1ff",
   "metadata": {},
   "outputs": [
    {
     "name": "stdout",
     "output_type": "stream",
     "text": [
      "a = [2, 3, 5, 2, 6, 2, 2, 7]\n",
      "2 not in a = False\n",
      "4 not in a = True\n"
     ]
    }
   ],
   "source": [
    "a = [ 2, 3, 5, 2, 6, 2, 2, 7 ]\n",
    "print(\"a =\", a)\n",
    "print(\"2 not in a =\", (2 not in a))\n",
    "print(\"4 not in a =\", (4 not in a))"
   ]
  },
  {
   "cell_type": "code",
   "execution_count": 53,
   "id": "28fa1494-f531-4cbb-ba7e-dc093bf02351",
   "metadata": {},
   "outputs": [
    {
     "name": "stdout",
     "output_type": "stream",
     "text": [
      "a = [2, 3, 5, 2, 6, 2, 2, 7]\n",
      "a.count(1) = 0\n",
      "a.count(2) = 4\n",
      "a.count(3) = 1\n"
     ]
    }
   ],
   "source": [
    "a = [ 2, 3, 5, 2, 6, 2, 2, 7 ]\n",
    "print(\"a =\", a)\n",
    "print(\"a.count(1) =\", a.count(1))\n",
    "print(\"a.count(2) =\", a.count(2))\n",
    "print(\"a.count(3) =\", a.count(3))"
   ]
  },
  {
   "cell_type": "code",
   "execution_count": 55,
   "id": "faab28e8-999b-4725-a57d-03218949b1c6",
   "metadata": {},
   "outputs": [
    {
     "name": "stdout",
     "output_type": "stream",
     "text": [
      "[2, 3, 7]\n"
     ]
    }
   ],
   "source": [
    "a = [ 2, 3 ]\n",
    "a.append(7)\n",
    "print(a)\n"
   ]
  },
  {
   "cell_type": "code",
   "execution_count": 56,
   "id": "bbc2954d-1714-4634-8ad2-1cc55c87b9c9",
   "metadata": {},
   "outputs": [
    {
     "name": "stdout",
     "output_type": "stream",
     "text": [
      "[2, 3, 11, 13, 0]\n"
     ]
    }
   ],
   "source": [
    "a = [ 2, 3 ]\n",
    "a += [ 11, 13 ]\n",
    "a += [0]\n",
    "print(a)"
   ]
  },
  {
   "cell_type": "code",
   "execution_count": 57,
   "id": "edca625b-ef8c-4716-ae01-f22469525d98",
   "metadata": {},
   "outputs": [
    {
     "name": "stdout",
     "output_type": "stream",
     "text": [
      "[2, 3, 17, 19]\n"
     ]
    }
   ],
   "source": [
    "a = [ 2, 3 ]\n",
    "a.extend([ 17, 19 ])\n",
    "print(a)"
   ]
  },
  {
   "cell_type": "code",
   "execution_count": 58,
   "id": "1c3cffb3-c281-4ac5-b7d7-14cc13e46922",
   "metadata": {},
   "outputs": [
    {
     "name": "stdout",
     "output_type": "stream",
     "text": [
      "[2, 3, 42, 5, 7, 11]\n"
     ]
    }
   ],
   "source": [
    "a = [ 2, 3, 5, 7, 11 ]\n",
    "a.insert(2, 42) # at index 2, insert 42\n",
    "print(a)"
   ]
  },
  {
   "cell_type": "code",
   "execution_count": 59,
   "id": "bb4253ea-1de1-4968-a0c1-e404fdd23b28",
   "metadata": {},
   "outputs": [
    {
     "name": "stdout",
     "output_type": "stream",
     "text": [
      "[2, 3]\n",
      "[2, 3, 13, 17]\n"
     ]
    }
   ],
   "source": [
    "a = [ 2, 3 ]\n",
    "b = a + [ 13, 17 ]\n",
    "print(a)\n",
    "print(b)"
   ]
  },
  {
   "cell_type": "code",
   "execution_count": 60,
   "id": "fd3c53a3-1c78-45e0-8e94-8d98962c370f",
   "metadata": {},
   "outputs": [
    {
     "name": "stdout",
     "output_type": "stream",
     "text": [
      "[2, 3]\n",
      "[2, 3, 5]\n"
     ]
    }
   ],
   "source": [
    "a = [ 2, 3 ]\n",
    "b = a[:2] + [5] + a[2:]\n",
    "print(a)\n",
    "print(b)"
   ]
  },
  {
   "cell_type": "code",
   "execution_count": 61,
   "id": "28f5e193-0787-4f93-82b5-b82d40e36d27",
   "metadata": {},
   "outputs": [
    {
     "name": "stdout",
     "output_type": "stream",
     "text": [
      "Destructive:\n",
      "[2, 3, 4]\n",
      "[2, 3, 4]\n",
      "Non-Destructive:\n",
      "[2, 3, 4]\n",
      "[2, 3]\n"
     ]
    }
   ],
   "source": [
    "print(\"Destructive:\")\n",
    "a = [ 2, 3 ]\n",
    "b = a\n",
    "a += [ 4 ]\n",
    "print(a)\n",
    "print(b)\n",
    "print(\"Non-Destructive:\")\n",
    "a = [ 2, 3 ]\n",
    "b = a\n",
    "a = a + [ 4 ]\n",
    "print(a)\n",
    "print(b)"
   ]
  },
  {
   "cell_type": "code",
   "execution_count": 62,
   "id": "7e19e171-a7bb-4728-b576-1511318d9226",
   "metadata": {},
   "outputs": [
    {
     "name": "stdout",
     "output_type": "stream",
     "text": [
      "a = [2, 3, 5, 3, 7, 6, 5, 11, 13]\n",
      "After a.remove(5), a= [2, 3, 3, 7, 6, 5, 11, 13]\n",
      "After another a.remove(5), a= [2, 3, 3, 7, 6, 11, 13]\n"
     ]
    }
   ],
   "source": [
    "a = [ 2, 3, 5, 3, 7, 6, 5, 11, 13 ]\n",
    "print(\"a =\", a)\n",
    "a.remove(5)\n",
    "print(\"After a.remove(5), a=\", a)\n",
    "a.remove(5)\n",
    "print(\"After another a.remove(5), a=\", a)"
   ]
  },
  {
   "cell_type": "code",
   "execution_count": 63,
   "id": "2e0f341c-d35b-40a8-a130-387c72ffe993",
   "metadata": {},
   "outputs": [
    {
     "name": "stdout",
     "output_type": "stream",
     "text": [
      "a = [2, 3, 4, 5, 6, 7, 8]\n",
      "After item = a.pop(3)\n",
      " item = 5\n",
      " a = [2, 3, 4, 6, 7, 8]\n",
      "After another item = a.pop(3)\n",
      " item = 6\n",
      " a = [2, 3, 4, 7, 8]\n",
      "After item = a.pop()\n",
      " item = 8\n",
      " a = [2, 3, 4, 7]\n"
     ]
    }
   ],
   "source": [
    "a = [ 2, 3, 4, 5, 6, 7, 8 ]\n",
    "print(\"a =\", a)\n",
    "item = a.pop(3)\n",
    "print(\"After item = a.pop(3)\")\n",
    "print(\" item =\", item)\n",
    "print(\" a =\", a)\n",
    "item = a.pop(3)\n",
    "print(\"After another item = a.pop(3)\")\n",
    "print(\" item =\", item)\n",
    "print(\" a =\", a)\n",
    "# Xoa phan tu cuoi cung cua lít dung list.pop()\n",
    "item = a.pop()\n",
    "print(\"After item = a.pop()\")\n",
    "print(\" item =\", item)\n",
    "print(\" a =\", a)"
   ]
  },
  {
   "cell_type": "code",
   "execution_count": 64,
   "id": "9dfd135e-7ea7-4b21-a464-594aa5d9bed3",
   "metadata": {},
   "outputs": [
    {
     "name": "stdout",
     "output_type": "stream",
     "text": [
      "a = [2, 3, 6, 7, 8]\n"
     ]
    }
   ],
   "source": [
    "a = [ 2, 3, 4, 5, 6, 7, 8 ]\n",
    "del a[2:4]\n",
    "print(\"a =\", a)"
   ]
  },
  {
   "cell_type": "code",
   "execution_count": 65,
   "id": "37aea18e-1654-4177-b58b-62260022d51b",
   "metadata": {},
   "outputs": [
    {
     "name": "stdout",
     "output_type": "stream",
     "text": [
      "a = []\n"
     ]
    }
   ],
   "source": [
    "a = [ 2, 3, 4, 5, 6, 7, 8 ]\n",
    "a.clear()\n",
    "print(\"a =\", a)"
   ]
  },
  {
   "cell_type": "code",
   "execution_count": 66,
   "id": "1e409395-2f8d-4a2a-a3f3-b27086716252",
   "metadata": {},
   "outputs": [
    {
     "name": "stdout",
     "output_type": "stream",
     "text": [
      "a = [2, 3, 5, 3, 7, 5, 11, 13]\n",
      "After b = a[:2] + a[3:]\n",
      " a = [2, 3, 5, 3, 7, 5, 11, 13]\n",
      " b = [2, 3, 3, 7, 5, 11, 13]\n"
     ]
    }
   ],
   "source": [
    "a = [ 2, 3, 5, 3, 7, 5, 11, 13 ]\n",
    "print(\"a =\", a)\n",
    "b = a[:2] + a[3:]\n",
    "print(\"After b = a[:2] + a[3:]\")\n",
    "print(\" a =\", a)\n",
    "print(\" b =\", b)"
   ]
  },
  {
   "cell_type": "code",
   "execution_count": 67,
   "id": "e5e09888-f998-49d7-9a22-86ebe8a3e582",
   "metadata": {},
   "outputs": [
    {
     "name": "stdout",
     "output_type": "stream",
     "text": [
      "a = [2, 3, 5, 7]\n",
      "After failed swap of a[0] and a[1]:\n",
      " a= [3, 3, 5, 7]\n"
     ]
    }
   ],
   "source": [
    "a = [ 2, 3, 5, 7 ]\n",
    "print(\"a =\", a)\n",
    "a[0] = a[1]\n",
    "a[1] = a[0]\n",
    "print(\"After failed swap of a[0] and a[1]:\")\n",
    "print(\" a=\",a)"
   ]
  },
  {
   "cell_type": "code",
   "execution_count": 68,
   "id": "0caa5803-1e4f-4cdc-b4ff-dab0af4329fa",
   "metadata": {},
   "outputs": [
    {
     "name": "stdout",
     "output_type": "stream",
     "text": [
      "a = [2, 3, 5, 7]\n",
      "After swapping a[0] and a[1]:\n",
      " a= [3, 2, 5, 7]\n"
     ]
    }
   ],
   "source": [
    "a = [ 2, 3, 5, 7 ]\n",
    "print(\"a =\", a)\n",
    "temp = a[0]\n",
    "a[0] = a[1]\n",
    "a[1] = temp\n",
    "print(\"After swapping a[0] and a[1]:\")\n",
    "print(\" a=\",a)"
   ]
  },
  {
   "cell_type": "code",
   "execution_count": 69,
   "id": "7c16b27c-90d1-4122-9524-9ab6b2afbb82",
   "metadata": {},
   "outputs": [
    {
     "name": "stdout",
     "output_type": "stream",
     "text": [
      "a = [2, 3, 5, 7]\n",
      "After swapping a[0] and a[1]:\n",
      " a= [3, 2, 5, 7]\n"
     ]
    }
   ],
   "source": [
    "a = [ 2, 3, 5, 7 ]\n",
    "print(\"a =\", a)\n",
    "a[0],a[1] = a[1],a[0]\n",
    "print(\"After swapping a[0] and a[1]:\")\n",
    "print(\" a=\",a)"
   ]
  },
  {
   "cell_type": "code",
   "execution_count": 70,
   "id": "7715f205-aa9f-41cf-9e46-bd5a237396cc",
   "metadata": {},
   "outputs": [
    {
     "name": "stdout",
     "output_type": "stream",
     "text": [
      "Here are the items in a:\n",
      "2\n",
      "3\n",
      "5\n",
      "7\n"
     ]
    }
   ],
   "source": [
    "a = [ 2, 3, 5, 7 ]\n",
    "print(\"Here are the items in a:\")\n",
    "for pt in a:\n",
    "    print(pt)"
   ]
  },
  {
   "cell_type": "code",
   "execution_count": 71,
   "id": "36baf7eb-5f8f-4220-b116-d00ce797ad28",
   "metadata": {},
   "outputs": [
    {
     "name": "stdout",
     "output_type": "stream",
     "text": [
      "Here are the items in a with their indexes:\n",
      "a[ 0 ] = 2\n",
      "a[ 1 ] = 3\n",
      "a[ 2 ] = 5\n",
      "a[ 3 ] = 7\n"
     ]
    }
   ],
   "source": [
    "a = [ 2, 3, 5, 7 ]\n",
    "print(\"Here are the items in a with their indexes:\")\n",
    "for i in range(len(a)):\n",
    "    print(\"a[\", i, \"] =\", a[i])"
   ]
  },
  {
   "cell_type": "code",
   "execution_count": 72,
   "id": "b20e599c-ebe6-41ac-834c-16d1c7969dff",
   "metadata": {},
   "outputs": [
    {
     "name": "stdout",
     "output_type": "stream",
     "text": [
      "And here are the items in reverse:\n",
      "a[ 0 ] = 2\n"
     ]
    }
   ],
   "source": [
    "a = [ 2, 3, 5, 7 ]\n",
    "print(\"And here are the items in reverse:\")\n",
    "for index in range(len(a)):\n",
    "    revIndex = len(a)-1-index\n",
    "print(\"a[\", revIndex, \"] =\", a[revIndex])"
   ]
  },
  {
   "cell_type": "code",
   "execution_count": 73,
   "id": "437c425c-7933-4923-92a3-a4bbcbf76e4a",
   "metadata": {},
   "outputs": [
    {
     "name": "stdout",
     "output_type": "stream",
     "text": [
      "And here are the items in reverse:\n",
      "7\n",
      "5\n",
      "3\n",
      "2\n",
      "[2, 3, 5, 7]\n"
     ]
    }
   ],
   "source": [
    "a = [ 2, 3, 5, 7 ]\n",
    "print(\"And here are the items in reverse:\")\n",
    "for item in reversed(a):\n",
    "    print(item)\n",
    "print(a)"
   ]
  },
  {
   "cell_type": "code",
   "execution_count": 74,
   "id": "c8c88792-c211-4892-b55a-f3706970e7d3",
   "metadata": {},
   "outputs": [
    {
     "name": "stdout",
     "output_type": "stream",
     "text": [
      "a = [2, 3, 5, 3, 7]\n",
      "b = [2, 3, 5, 3, 7]\n",
      "c = [2, 3, 5, 3, 8]\n",
      "d = [2, 3, 5]\n",
      "------------------\n",
      "a == b True\n",
      "a == c False\n",
      "a != b False\n",
      "a != c True\n",
      "------------------\n",
      "a < c True\n",
      "a < d False\n"
     ]
    }
   ],
   "source": [
    "# Create some lists\n",
    "a = [ 2, 3, 5, 3, 7 ]\n",
    "b = [ 2, 3, 5, 3, 7 ] # same as a\n",
    "c = [ 2, 3, 5, 3, 8 ] # differs in last element\n",
    "d = [ 2, 3, 5 ] # prefix of a\n",
    "print(\"a =\", a)\n",
    "print(\"b =\", b)\n",
    "print(\"c =\", c)\n",
    "print(\"d =\", d)\n",
    "print(\"------------------\")\n",
    "print(\"a == b\", (a == b))\n",
    "print(\"a == c\", (a == c))\n",
    "print(\"a != b\", (a != b))\n",
    "print(\"a != c\", (a != c))\n",
    "print(\"------------------\")\n",
    "print(\"a < c\", (a < c))\n",
    "print(\"a < d\", (a < d))"
   ]
  },
  {
   "cell_type": "code",
   "execution_count": 75,
   "id": "3b3091e0-7c23-4c15-a0d4-e9a54cd82cc2",
   "metadata": {},
   "outputs": [
    {
     "name": "stdout",
     "output_type": "stream",
     "text": [
      "At first...\n",
      " a = [2, 3]\n",
      " b = [2, 3]\n",
      " c = [2, 3]\n",
      "But after a[0] = 42\n",
      " a = [42, 3]\n",
      " b = [42, 3]\n",
      " c = [2, 3]\n"
     ]
    }
   ],
   "source": [
    "import copy\n",
    "# Create a list\n",
    "a = [ 2, 3 ]\n",
    "# Try to copy it\n",
    "b = a # Error! Not a copy, but an alias\n",
    "c = copy.copy(a) # Ok\n",
    "print(\"At first...\")\n",
    "print(\" a =\", a)\n",
    "print(\" b =\", b)\n",
    "print(\" c =\", c)\n",
    "# Now modify a[0]\n",
    "a[0] = 42\n",
    "print(\"But after a[0] = 42\")\n",
    "print(\" a =\", a)\n",
    "print(\" b =\", b)\n",
    "print(\" c =\", c)"
   ]
  },
  {
   "cell_type": "code",
   "execution_count": 76,
   "id": "61b7190e-fa39-4ba7-b6e5-58a4c4d61373",
   "metadata": {},
   "outputs": [
    {
     "name": "stdout",
     "output_type": "stream",
     "text": [
      "[42, 3] [2, 3] [2, 3] [2, 3] [2, 3] [2, 3]\n"
     ]
    }
   ],
   "source": [
    "import copy\n",
    "a = [2, 3]\n",
    "b = copy.copy(a)\n",
    "c = a[:]\n",
    "d = a + [ ]\n",
    "e = list(a)\n",
    "f = sorted(a)\n",
    "a[0] = 42\n",
    "print(a, b, c, d, e, f)"
   ]
  },
  {
   "cell_type": "code",
   "execution_count": 77,
   "id": "ed28c7fc-8d69-49c3-8cac-0c9e49b35db2",
   "metadata": {},
   "outputs": [
    {
     "name": "stdout",
     "output_type": "stream",
     "text": [
      "At first\n",
      " a = [7, 2, 5, 3, 5, 11, 7]\n",
      "After b = sorted(a)\n",
      " a = [7, 2, 5, 3, 5, 11, 7]\n",
      " b = [2, 3, 5, 5, 7, 7, 11]\n",
      " c = [11, 7, 7, 5, 5, 3, 2]\n"
     ]
    }
   ],
   "source": [
    "a = [ 7, 2, 5, 3, 5, 11, 7 ]\n",
    "print(\"At first\")\n",
    "print(\" a =\", a)\n",
    "b = sorted(a)\n",
    "c = sorted(a,reverse=True)\n",
    "print(\"After b = sorted(a)\")\n",
    "print(\" a =\", a)\n",
    "print(\" b =\", b)\n",
    "print(\" c =\", c)"
   ]
  },
  {
   "cell_type": "code",
   "execution_count": 78,
   "id": "c91f712a-bbac-494f-82e0-d12dfa9bbee6",
   "metadata": {},
   "outputs": [
    {
     "name": "stdout",
     "output_type": "stream",
     "text": [
      "[-5, -3, 1, 2, 7, 8, 10]\n",
      "[1, 2, -3, -5, 7, 8, 10]\n"
     ]
    }
   ],
   "source": [
    "a = [ 10, 2, -5, 8, -3, 7, 1 ]\n",
    "print(sorted(a))\n",
    "print(sorted(a, key=abs))"
   ]
  },
  {
   "cell_type": "code",
   "execution_count": 81,
   "id": "ce56839a-6a06-4cca-85c8-5a2dca546a88",
   "metadata": {},
   "outputs": [
    {
     "name": "stdout",
     "output_type": "stream",
     "text": [
      "4\n"
     ]
    }
   ],
   "source": [
    "def countOdds(a):\n",
    "    count = 0\n",
    "    for item in a:\n",
    "        if (item % 2 == 1):\n",
    "            count += 1\n",
    "    return count\n",
    "print(countOdds([2, 3, 7, 8, 21, 23, 24]))"
   ]
  },
  {
   "cell_type": "code",
   "execution_count": 82,
   "id": "e39d7658-8f33-4195-a374-9b19a82afe30",
   "metadata": {},
   "outputs": [
    {
     "name": "stdout",
     "output_type": "stream",
     "text": [
      "At first, a = [1, 2, 3, 4, 5]\n",
      "After fill(a, 42), a = [42, 42, 42, 42, 42]\n"
     ]
    }
   ],
   "source": [
    "def fill(a, value):\n",
    "    for i in range(len(a)):\n",
    "        a[i] = value\n",
    "a = [1, 2, 3, 4, 5]\n",
    "print(\"At first, a =\", a)\n",
    "fill(a, 42)\n",
    "print(\"After fill(a, 42), a =\", a)"
   ]
  },
  {
   "cell_type": "code",
   "execution_count": 83,
   "id": "89b9118c-820d-49a3-afe5-15ec88fc9dc4",
   "metadata": {},
   "outputs": [
    {
     "name": "stdout",
     "output_type": "stream",
     "text": [
      "[1, 3, 9, 27, 81, 243, 729, 2187, 6561]\n"
     ]
    }
   ],
   "source": [
    "cub3 = [3 ** x for x in range(9)]\n",
    "# Output: [1, 3, 9, 27, 81, 243, 729, 2187, 6561]\n",
    "print(cub3)"
   ]
  },
  {
   "cell_type": "code",
   "execution_count": 84,
   "id": "4ecc0252-fa26-406a-b2a7-f346d732c471",
   "metadata": {},
   "outputs": [
    {
     "name": "stdout",
     "output_type": "stream",
     "text": [
      "[243, 729, 2187, 6561]\n",
      "[1, 3, 5, 7, 9, 11, 13, 15, 17]\n",
      "['Ngôn ngữ Python', 'Ngôn ngữ C++', 'Lập trình Python', 'Lập trình C++']\n"
     ]
    }
   ],
   "source": [
    "cub3 = [3 ** x for x in range(9) if x > 4]\n",
    "# Output: [243, 729, 2187, 6561]\n",
    "print(cub3)\n",
    "so_le = [x for x in range (18) if x % 2 == 1]\n",
    "# Output: [1, 3, 5, 7, 9, 11, 13, 15, 17]\n",
    "print(so_le)\n",
    "noi_list = [x+y for x in ['Ngôn ngữ '\n",
    ",\n",
    "'Lập trình '] for y in ['Python','C++']]\n",
    "# Output: ['Ngôn ngữ Python', 'Ngôn ngữ C++', 'Lập trình Python', 'Lập trình C++']\n",
    "print(noi_list)"
   ]
  },
  {
   "cell_type": "code",
   "execution_count": 85,
   "id": "838517d1-6216-459c-8727-055882a3c789",
   "metadata": {},
   "outputs": [
    {
     "name": "stdout",
     "output_type": "stream",
     "text": [
      "['w', 'a', 'h', 'o', 'o', '!']\n",
      "['How', 'are', 'you', 'doing', 'today?']\n",
      "parsley is gharsley\n"
     ]
    }
   ],
   "source": [
    "# use list(s) to convert a string to a list of characters\n",
    "a = list(\"wahoo!\")\n",
    "print(a) # prints: ['w', 'a', 'h', 'o', 'o', '!']\n",
    "a = \"How are you doing today?\".split(\" \")\n",
    "print(a) # prints ['How', 'are', 'you', 'doing', 'today?']\n",
    "a = [\"parsley\", \" \", \"is\", \" \",\n",
    "\"gharsley\"]\n",
    "s = \"\".join(a)\n",
    "print(s) # prints: parsley is gharsley"
   ]
  },
  {
   "cell_type": "code",
   "execution_count": 86,
   "id": "48fe67da-0a7a-40bc-9a14-2007a2d4f064",
   "metadata": {},
   "outputs": [
    {
     "name": "stdout",
     "output_type": "stream",
     "text": [
      "<class 'tuple'> 3 (1, 2, 3)\n",
      "<class 'tuple'> 3 (1, 2, 3)\n"
     ]
    }
   ],
   "source": [
    "t = (1, 2, 3)\n",
    "print(type(t), len(t), t)\n",
    "a = [1, 2, 3]\n",
    "t = tuple(a)\n",
    "print(type(t), len(t), t)"
   ]
  },
  {
   "cell_type": "code",
   "execution_count": 88,
   "id": "d261bf0d-3bf7-44d0-97ce-bbb6624ea507",
   "metadata": {},
   "outputs": [
    {
     "name": "stdout",
     "output_type": "stream",
     "text": [
      "t[0:2] =  (10, 'quan tri mang')\n",
      "()\n",
      "(2, 4, 16, 256)\n"
     ]
    }
   ],
   "source": [
    "t = (10,\n",
    "\"quan tri mang\"\n",
    ", 2j)\n",
    "#t[0:2] = (10, 'quan tri mang')\n",
    "print(\"t[0:2] = \", t[0:2])\n",
    "# Tuple rỗng\n",
    "# Output: ()\n",
    "my_tuple = ()\n",
    "print(my_tuple)\n",
    "# tuple số nguyên\n",
    "# Output: (2, 4, 16, 256)\n",
    "my_tuple = (2, 4, 16, 256)\n",
    "print(my_tuple) "
   ]
  },
  {
   "cell_type": "code",
   "execution_count": 89,
   "id": "f94f3618-ca1c-4164-894f-d5c29ed0fcb3",
   "metadata": {},
   "outputs": [
    {
     "name": "stdout",
     "output_type": "stream",
     "text": [
      "(10, 'Quantrimang.com', 3.5)\n",
      "('QTM', [2, 4, 6], (3, 5, 7))\n",
      "(10, 'Quantrimang.com', 3.5)\n",
      "10\n",
      "Quantrimang.com\n",
      "3.5\n"
     ]
    }
   ],
   "source": [
    "# tuple có nhiều kiểu dữ liệu\n",
    "# Output: (10, \"Quantrimang.com\", 3.5)\n",
    "my_tuple = (10, \"Quantrimang.com\", 3.5)\n",
    "print(my_tuple)\n",
    "# tuple lồng nhau\n",
    "# Output: (\"QTM\", [2, 4, 6], (3, 5, 7))\n",
    "my_tuple = (\"QTM\", [2, 4, 6], (3, 5, 7))\n",
    "print(my_tuple)\n",
    "# tuple có thể được tạo mà không cần dấu ()\n",
    "# còn gọi là đóng gói tuple\n",
    "# Output: (10, \"Quantrimang.com\", 3.5)\n",
    "my_tuple = 10, \"Quantrimang.com\", 3.5\n",
    "print(my_tuple)\n",
    "# mở gói (unpacking) tuple cũng có thể làm được\n",
    "# Output:\n",
    "# 10\n",
    "# Quantrimang.com\n",
    "# 3.5\n",
    "a, b, c = my_tuple\n",
    "print(a)\n",
    "print(b)\n",
    "print(c)"
   ]
  },
  {
   "cell_type": "code",
   "execution_count": 90,
   "id": "9ed1bbf1-3863-475c-9c3c-bc06e43c2309",
   "metadata": {},
   "outputs": [
    {
     "name": "stdout",
     "output_type": "stream",
     "text": [
      "1\n",
      "2\n",
      "2\n",
      "1\n"
     ]
    }
   ],
   "source": [
    "(x, y) = (1, 2)\n",
    "print(x)\n",
    "print(y)\n",
    "(x, y) = (y, x)\n",
    "print(x)\n",
    "print(y)"
   ]
  },
  {
   "cell_type": "code",
   "execution_count": 91,
   "id": "25daea69-87da-4324-9699-52733316326f",
   "metadata": {},
   "outputs": [
    {
     "name": "stdout",
     "output_type": "stream",
     "text": [
      "<class 'int'> 210\n",
      "<class 'tuple'> (42, 42, 42, 42, 42)\n",
      "<class 'tuple'> (42, 2, 42, 2)\n"
     ]
    }
   ],
   "source": [
    "t = (42)\n",
    "print(type(t), t*5)\n",
    "t = (42,)\n",
    "print(type(t), t*5)\n",
    "t = (42,2)\n",
    "print(type(t), t*2)"
   ]
  },
  {
   "cell_type": "code",
   "execution_count": 92,
   "id": "611f39cb-4518-4c09-87fc-609d4eb81c65",
   "metadata": {},
   "outputs": [
    {
     "name": "stdout",
     "output_type": "stream",
     "text": [
      "r\n",
      "8\n"
     ]
    }
   ],
   "source": [
    "# tuple lồng nhau\n",
    "n_tuple = (\"Quantrimang.com\", [2, 6, 8], (1, 2, 3))\n",
    "# index lồng nhau\n",
    "# Output: 'r'\n",
    "print(n_tuple[0][5])\n",
    "# index lồng nhau\n",
    "# Output: 8\n",
    "print(n_tuple[1][2])"
   ]
  },
  {
   "cell_type": "code",
   "execution_count": 94,
   "id": "6603b7df-fc67-4dfe-913a-9363a0ecf2d9",
   "metadata": {},
   "outputs": [
    {
     "name": "stdout",
     "output_type": "stream",
     "text": [
      "(1, 3, 5, [8, 9])\n"
     ]
    }
   ],
   "source": [
    "my_tuple = (1, 3, 5, [7, 9])\n",
    "# Nhưng phần tử có index 3 trong tuple là list\n",
    "# list có thể thay đổi, nên phần tử đó có thể thay đổi\n",
    "# Output: (1, 3, 5, [8, 9])\n",
    "my_tuple[3][0] = 8\n",
    "print(my_tuple)\n"
   ]
  },
  {
   "cell_type": "code",
   "execution_count": 98,
   "id": "574b3dd6-bd88-4a80-987b-ee4f9f480893",
   "metadata": {},
   "outputs": [
    {
     "name": "stdout",
     "output_type": "stream",
     "text": [
      "('q', 'u', 'a', 'n', 't', 'r', 'i', 'm', 'a', 'n', 'g')\n"
     ]
    }
   ],
   "source": [
    "my_tuple = (1, 3, 5, [7, 9])\n",
    "# Nếu cần thay đổi tuple hãy gán lại giá trị cho nó\n",
    "# Output: ('q', 'u', 'a', 'n', 't', 'r', 'i', 'm', 'a', 'n', 'g')\n",
    "my_tuple = ('q', 'u', 'a', 'n', 't', 'r','i', 'm', 'a', 'n', 'g')\n",
    "print(my_tuple)"
   ]
  },
  {
   "cell_type": "code",
   "execution_count": 99,
   "id": "7763c506-0b49-4b23-83ae-4384aa39b425",
   "metadata": {},
   "outputs": [
    {
     "name": "stdout",
     "output_type": "stream",
     "text": [
      "(2, 4, 6, 3, 5, 7)\n",
      "('Quantrimang.com', 'Quantrimang.com', 'Quantrimang.com')\n"
     ]
    }
   ],
   "source": [
    "# Nối 2 tuple\n",
    "# Output: (2, 4, 6, 3, 5, 7)\n",
    "print((2, 4, 6) + (3, 5, 7))\n",
    "# Lặp lại tuple\n",
    "# Output: ('Quantrimang.com', 'Quantrimang.com', 'Quantrimang.com')\n",
    "print((\"Quantrimang.com\",) * 3)"
   ]
  },
  {
   "cell_type": "code",
   "execution_count": 100,
   "id": "a90de58b-3098-4ad2-b6f7-7e055540c2bd",
   "metadata": {},
   "outputs": [],
   "source": [
    "QTM = ['q','u','a','n','t','r','i','m','a','n','g','.','c','o','m']\n",
    "# Không thể xóa phần tử của tuple\n",
    "# TypeError: 'tuple' object doesn't support item deletion\n",
    "del QTM[3]\n",
    "# Có thể xóa toàn bộ tuple\n",
    "del QTM "
   ]
  },
  {
   "cell_type": "code",
   "execution_count": 101,
   "id": "d3e6384e-db70-40ca-9cdd-1dbc29df5002",
   "metadata": {},
   "outputs": [
    {
     "name": "stdout",
     "output_type": "stream",
     "text": [
      "2\n",
      "3\n"
     ]
    }
   ],
   "source": [
    "QTM = ['q','u','a','n','t','r','i','m','a','n','g','.','c','o','m']\n",
    "# Count\n",
    "# Output: 2\n",
    "print(QTM.count('m'))\n",
    "# Index\n",
    "# Output: 3\n",
    "print(QTM.index('n'))"
   ]
  },
  {
   "cell_type": "code",
   "execution_count": 102,
   "id": "556cf27b-756e-4722-92f9-6712765002c2",
   "metadata": {},
   "outputs": [
    {
     "name": "stdout",
     "output_type": "stream",
     "text": [
      "True\n",
      "False\n",
      "False\n"
     ]
    }
   ],
   "source": [
    "QTM = ['q','u','a','n','t','r','i','m','a','n','g','.','c','o','m']\n",
    "# Kiểm tra phần tử\n",
    "# Output: True\n",
    "print('a' in QTM)\n",
    "# Output: False\n",
    "print('b' in QTM)\n",
    "# Output: False\n",
    "print('g' not in QTM)"
   ]
  },
  {
   "cell_type": "code",
   "execution_count": 104,
   "id": "edadabed-268c-4365-a1fb-f84a6e8d4078",
   "metadata": {},
   "outputs": [
    {
     "name": "stdout",
     "output_type": "stream",
     "text": [
      " Lap trinh Python\n",
      " Lap trinh C++\n",
      " Lap trinh Web\n"
     ]
    }
   ],
   "source": [
    "for ngon_ngu in ('Python','C++','Web'):\n",
    "    print(\" Lap trinh\",ngon_ngu)"
   ]
  },
  {
   "cell_type": "code",
   "execution_count": 107,
   "id": "514c058a-f41a-4bf4-82df-856f6deb0e01",
   "metadata": {},
   "outputs": [
    {
     "name": "stdout",
     "output_type": "stream",
     "text": [
      "True\n",
      "False\n",
      "0\n",
      "1\n",
      "4\n",
      "6\n",
      "False\n",
      "<class 'dict'>\n"
     ]
    }
   ],
   "source": [
    "s= set([2,3,5])\n",
    "print(3 in s) # prints True\n",
    "print(4 in s) # prints False\n",
    "for x in range(7):\n",
    "    if (x not in s):\n",
    "        print(x) # prints 0 1 4 6\n",
    "s = { }\n",
    "print(type(s) == set) # False!\n",
    "print(type(s)) # This is a dictionary"
   ]
  },
  {
   "cell_type": "code",
   "execution_count": 108,
   "id": "3411ae0e-3e5f-4f38-95ec-6b7c1f78dbea",
   "metadata": {},
   "outputs": [
    {
     "name": "stdout",
     "output_type": "stream",
     "text": [
      "set()\n",
      "{'cow', 'cat', 'dog'}\n",
      "{'w', 'a', 'h', 'o'}\n"
     ]
    }
   ],
   "source": [
    "s = set()\n",
    "print(s) # prints set()\n",
    "s = set([\"cat\", \"cow\", \"dog\"])\n",
    "print(s)\n",
    "s = set(\"wahoo\")\n",
    "print(s) "
   ]
  },
  {
   "cell_type": "code",
   "execution_count": 109,
   "id": "40770373-595b-42f0-b1b6-c7656f1c8732",
   "metadata": {},
   "outputs": [
    {
     "name": "stdout",
     "output_type": "stream",
     "text": [
      "{2}\n",
      "1\n"
     ]
    }
   ],
   "source": [
    "s = set([2,2,2])\n",
    "print(s)\n",
    "print(len(s)) "
   ]
  },
  {
   "cell_type": "code",
   "execution_count": 113,
   "id": "83d68a0a-fccc-408c-8d4d-42f729398e9b",
   "metadata": {},
   "outputs": [
    {
     "name": "stdout",
     "output_type": "stream",
     "text": [
      "3\n",
      "{1, 2, 3, 4}\n",
      "{1, 2, 3}\n",
      "set() 0\n"
     ]
    }
   ],
   "source": [
    "s = { 2, 3, 2, 4, 3 }\n",
    "print(len(s)) # 3\n",
    "s = { 1, 2, 3 }\n",
    "t = s.copy()\n",
    "s.add(4)\n",
    "print(s)\n",
    "print(t)\n",
    "s = { 1, 2, 3 }\n",
    "s.clear()\n",
    "print(s, len(s)) # set() 0"
   ]
  },
  {
   "cell_type": "code",
   "execution_count": 114,
   "id": "b5cab17d-f617-4ad1-9248-b3a0cf0c3583",
   "metadata": {},
   "outputs": [
    {
     "name": "stdout",
     "output_type": "stream",
     "text": [
      "False\n",
      "True\n"
     ]
    }
   ],
   "source": [
    "s = { 1, 2, 3 }\n",
    "print(0 in s) #False\n",
    "print(1 in s) #True"
   ]
  },
  {
   "cell_type": "code",
   "execution_count": 115,
   "id": "52f8b2c6-53b0-4ada-ae63-f9d55f5e64c0",
   "metadata": {},
   "outputs": [
    {
     "name": "stdout",
     "output_type": "stream",
     "text": [
      "{1, 2, 3} False\n",
      "{1, 2, 3, 4} True\n"
     ]
    }
   ],
   "source": [
    "s = { 1, 2, 3 }\n",
    "print(s, 4 in s) # set({1, 2, 3}) False\n",
    "s.add(4)\n",
    "print(s, 4 in s) # set({1, 2, 3, 4}) True"
   ]
  },
  {
   "cell_type": "code",
   "execution_count": 118,
   "id": "b6f12b5d-6975-41bc-aaaa-a8849118c89f",
   "metadata": {},
   "outputs": [
    {
     "name": "stdout",
     "output_type": "stream",
     "text": [
      "False False\n",
      "True True\n",
      "True True\n"
     ]
    }
   ],
   "source": [
    "print({1,2} <= {1}, {1,2}.issubset({1}))\n",
    "print({1,2} <= {1,2}, {1,2}.issubset({1,2}))\n",
    "print({1,2} <= {1,2,3}, {1,2}.issubset({1,2,3}))"
   ]
  },
  {
   "cell_type": "code",
   "execution_count": 116,
   "id": "278955da-4523-4bd3-a7e5-dbeacc0870bb",
   "metadata": {},
   "outputs": [
    {
     "name": "stdout",
     "output_type": "stream",
     "text": [
      "{1, 2, 3} True\n",
      "{1, 2} False\n",
      "{1, 2} False\n"
     ]
    }
   ],
   "source": [
    "s = { 1, 2, 3 }\n",
    "print(s, 3 in s) # set({1, 2, 3}) True\n",
    "s.discard(3)\n",
    "print(s, 3 in s) # set({1, 2}) False\n",
    "s.discard(3) # does not crash! No ERROR\n",
    "print(s, 3 in s) # set({1, 2}) False"
   ]
  },
  {
   "cell_type": "code",
   "execution_count": 119,
   "id": "d83f83b8-8e78-4ecc-94d9-e28c420d63a3",
   "metadata": {},
   "outputs": [
    {
     "name": "stdout",
     "output_type": "stream",
     "text": [
      "True True\n",
      "True True\n",
      "False False\n"
     ]
    }
   ],
   "source": [
    "print({1,2} >= {1}, {1,2}.issuperset({1}))\n",
    "print({1,2} >= {1,2}, {1,2}.issuperset({1,2}))\n",
    "print({1,2} >= {1,2,3}, {1,2}.issuperset({1,2,3}))"
   ]
  },
  {
   "cell_type": "code",
   "execution_count": 120,
   "id": "dd8bc82b-f498-4830-8ee0-2caab23a61e4",
   "metadata": {},
   "outputs": [
    {
     "name": "stdout",
     "output_type": "stream",
     "text": [
      "{1, 2} {1, 2}\n",
      "{1, 2, 3} {1, 2, 3}\n",
      "{1, 2} {1, 2, 3}\n"
     ]
    }
   ],
   "source": [
    "print({1,2} | {1}, {1,2}.union({1}))\n",
    "print({1,2} | {1,3}, {1,2}.union({1,3}))\n",
    "s = {1,2}\n",
    "t = s | {1,3}\n",
    "print(s, t)"
   ]
  },
  {
   "cell_type": "code",
   "execution_count": 121,
   "id": "4eaa7dfb-9c04-4c6c-b3b7-aef3bc3169aa",
   "metadata": {},
   "outputs": [
    {
     "name": "stdout",
     "output_type": "stream",
     "text": [
      "{1} {1}\n",
      "{1} {1}\n",
      "{1, 2} {1}\n"
     ]
    }
   ],
   "source": [
    "print({1,2} & {1}, {1,2}.intersection({1}))\n",
    "print({1,2} & {1,3}, {1,2}.intersection({1,3}))\n",
    "s = {1,2}\n",
    "t = s & {1,3}\n",
    "print(s, t)"
   ]
  },
  {
   "cell_type": "code",
   "execution_count": 122,
   "id": "236f9488-44e6-4030-a1e7-27b76b596c6e",
   "metadata": {},
   "outputs": [
    {
     "name": "stdout",
     "output_type": "stream",
     "text": [
      "{2} {2}\n",
      "{2} {2}\n",
      "{1, 2} {2}\n"
     ]
    }
   ],
   "source": [
    "print({1,2} - {1}, {1,2}.difference({1}))\n",
    "print({1,2} - {1,3}, {1,2}.difference({1,3}))\n",
    "s = {1,2}\n",
    "t = s - {1,3}\n",
    "print(s, t)"
   ]
  },
  {
   "cell_type": "code",
   "execution_count": 123,
   "id": "2efb9d9d-f482-4a0e-96df-01fd30f4f14d",
   "metadata": {},
   "outputs": [
    {
     "name": "stdout",
     "output_type": "stream",
     "text": [
      "{1, 2, 3, 6, 7, 8}\n",
      "{1, 2, 3, 6, 7, 8}\n"
     ]
    }
   ],
   "source": [
    "# Khởi tạo A và B\n",
    "A = {1, 2, 3, 4, 5}\n",
    "B = {4, 5, 6, 7, 8}\n",
    "# Sử dụng toán tử ^\n",
    "# Output: {1, 2, 3, 6, 7, 8}\n",
    "print(A ^ B)\n",
    "# Sử dụng symmetric_difference() trên A\n",
    "# Output: {1, 2, 3, 6, 7, 8}\n",
    "print(A.symmetric_difference(B))"
   ]
  },
  {
   "cell_type": "code",
   "execution_count": 124,
   "id": "e326ba05-4c42-4901-b00c-d30a0530e92f",
   "metadata": {},
   "outputs": [
    {
     "name": "stdout",
     "output_type": "stream",
     "text": [
      "{1, 2, 3} {1, 2, 3} {2, 3}\n"
     ]
    }
   ],
   "source": [
    "s = {1,2}\n",
    "t = {1,3}\n",
    "u = {2,3}\n",
    "s.update(u)\n",
    "t |= u\n",
    "print(s, t, u)"
   ]
  },
  {
   "cell_type": "code",
   "execution_count": 125,
   "id": "2d1dcca6-31e2-494d-a86b-1a3d0cbe4fbf",
   "metadata": {},
   "outputs": [
    {
     "name": "stdout",
     "output_type": "stream",
     "text": [
      "{}\n",
      "{'cow': 5, 'dog': 98, 'cat': 1}\n"
     ]
    }
   ],
   "source": [
    "d = dict()\n",
    "print(d) # prints {}\n",
    "pairs = [(\"cow\", 5), (\"dog\", 98), (\"cat\", 1)]\n",
    "d = dict(pairs)\n",
    "print(d)"
   ]
  },
  {
   "cell_type": "code",
   "execution_count": 126,
   "id": "87807c67-2827-4025-a960-0c6e9210c0c5",
   "metadata": {},
   "outputs": [
    {
     "name": "stdout",
     "output_type": "stream",
     "text": [
      "{'cow': 5, 'dog': 98, 'cat': 1}\n"
     ]
    }
   ],
   "source": [
    "d = { \"cow\":5, \"dog\":98, \"cat\":1 }\n",
    "print(d)"
   ]
  },
  {
   "cell_type": "code",
   "execution_count": 127,
   "id": "ed949226-bb29-47cc-872b-41979be49daa",
   "metadata": {},
   "outputs": [],
   "source": [
    "d1 = {1: 'Quantrimang.com',2: 'Công nghệ'}\n",
    "d2 = {'tên': 'QTM', 1: [1, 3, 5]}\n",
    "d3 = dict({1:'apple', 2:'ball'})\n",
    "d4 = dict([(1,'QTM'), (2,'CN')])"
   ]
  },
  {
   "cell_type": "code",
   "execution_count": 129,
   "id": "4f6610dd-bfb2-41c5-9f73-5d250f44b362",
   "metadata": {},
   "outputs": [
    {
     "name": "stdout",
     "output_type": "stream",
     "text": [
      "{2: 100, 4: 200, 8: 300}\n"
     ]
    }
   ],
   "source": [
    "d = dict()\n",
    "d[2] = 100\n",
    "d[4] = 200\n",
    "d[8] = 300\n",
    "print(d) # unpredictable order"
   ]
  },
  {
   "cell_type": "code",
   "execution_count": 130,
   "id": "dc96f752-c5e3-4e2f-900f-8ae938ca173e",
   "metadata": {},
   "outputs": [
    {
     "name": "stdout",
     "output_type": "stream",
     "text": [
      "{2: 400}\n"
     ]
    }
   ],
   "source": [
    "d = dict()\n",
    "d[2] = 100\n",
    "d[2] = 200\n",
    "d[2] = 400\n",
    "print(d) # { 2:400 }"
   ]
  },
  {
   "cell_type": "code",
   "execution_count": 133,
   "id": "296b7a71-eeae-4fc8-8793-5ba6bae59ee1",
   "metadata": {},
   "outputs": [
    {
     "name": "stdout",
     "output_type": "stream",
     "text": [
      "2\n"
     ]
    }
   ],
   "source": [
    "d = { 1:[1,2,3,4,5], 2:\"abcd\" }\n",
    "print(len(d)) # 2"
   ]
  },
  {
   "cell_type": "code",
   "execution_count": 134,
   "id": "70319f6e-12b5-4539-8d8e-9c12c7f7eb91",
   "metadata": {},
   "outputs": [
    {
     "name": "stdout",
     "output_type": "stream",
     "text": [
      "{1: 'a', 2: 'b'}\n",
      "{1: 'a'}\n"
     ]
    }
   ],
   "source": [
    "d1 = { 1:\"a\" }\n",
    "d2 = d1.copy()\n",
    "d1[2] = \"b\"\n",
    "print(d1)\n",
    "print(d2)"
   ]
  },
  {
   "cell_type": "code",
   "execution_count": 135,
   "id": "2a1477e1-1245-45c9-9b1b-9b66311916a9",
   "metadata": {},
   "outputs": [
    {
     "name": "stdout",
     "output_type": "stream",
     "text": [
      "{} 0\n"
     ]
    }
   ],
   "source": [
    "d = { 1:\"a\", 2:\"b\" }\n",
    "d.clear()\n",
    "print(d, len(d))"
   ]
  },
  {
   "cell_type": "code",
   "execution_count": 136,
   "id": "d5f80f1d-cddb-4d0f-969c-0dd4a9f8c31a",
   "metadata": {},
   "outputs": [
    {
     "name": "stdout",
     "output_type": "stream",
     "text": [
      "1 a\n",
      "2 b\n"
     ]
    }
   ],
   "source": [
    "d = { 1:\"a\", 2:\"b\" }\n",
    "for key in d:\n",
    "    print(key, d[key])"
   ]
  },
  {
   "cell_type": "code",
   "execution_count": 137,
   "id": "c3f0caba-15f6-4e3d-b5a3-3411f904d856",
   "metadata": {},
   "outputs": [
    {
     "name": "stdout",
     "output_type": "stream",
     "text": [
      "False\n",
      "True\n",
      "False\n"
     ]
    }
   ],
   "source": [
    "d = { 1:\"a\", 2:\"b\" }\n",
    "print(0 in d) # False\n",
    "print(1 in d) # True\n",
    "print(\"a\" in d) # surprised? False"
   ]
  },
  {
   "cell_type": "code",
   "execution_count": 138,
   "id": "a2e81e66-8448-4f18-9842-16cd69bfadf1",
   "metadata": {},
   "outputs": [
    {
     "name": "stdout",
     "output_type": "stream",
     "text": [
      "True\n",
      "False\n",
      "True\n"
     ]
    }
   ],
   "source": [
    "d = { 1:\"a\", 2:\"b\" }\n",
    "print(0 not in d) # True\n",
    "print(1 not in d) # False\n",
    "print(\"a\" not in d) # True"
   ]
  },
  {
   "cell_type": "code",
   "execution_count": 140,
   "id": "ea1a160e-bee0-4f49-b97b-95de500be4ca",
   "metadata": {},
   "outputs": [
    {
     "name": "stdout",
     "output_type": "stream",
     "text": [
      "a\n",
      "42\n"
     ]
    }
   ],
   "source": [
    "d = { 1:\"a\", 2:\"b\" }\n",
    "print(d[1]) # a\n",
    "d[1] = 42\n",
    "print(d[1]) # 42"
   ]
  },
  {
   "cell_type": "code",
   "execution_count": 141,
   "id": "02a67e67-31c4-4458-a299-b115a8ec36e2",
   "metadata": {},
   "outputs": [
    {
     "name": "stdout",
     "output_type": "stream",
     "text": [
      "a\n",
      "a\n",
      "None\n",
      "42\n"
     ]
    }
   ],
   "source": [
    "d = { 1:\"a\", 2:\"b\" }\n",
    "print(d.get(1)) # tuong duong d[1]\n",
    "print(d.get(1, 42)) # default không được dùng\n",
    "print(d.get(0)) # doesn't crash! Không bị lỗi\n",
    "print(d.get(0, 42)) # default được dùng"
   ]
  },
  {
   "cell_type": "code",
   "execution_count": 144,
   "id": "62d6ba6b-b0c9-4de3-bfa9-3e6c1ad51e96",
   "metadata": {},
   "outputs": [
    {
     "name": "stdout",
     "output_type": "stream",
     "text": [
      "{1: 'Quantrimang.com', 'quantrimang': 'Quản trị mạng'}\n",
      "{1: 'Quantrimang.com', 'quantrimang': 'Quản trị mạng', 2: 'Python'}\n"
     ]
    }
   ],
   "source": [
    "d2 = {1: 'Quantrimang.com','quantrimang': 'Công nghệ'}\n",
    "d2['quantrimang'] = 'Quản trị mạng'\n",
    "#output: {1: 'Quantrimang.com', 'quantrimang': 'Quản trị mạng'}\n",
    "print(d2)\n",
    "d2[2] = 'Python'\n",
    "#output: {1: 'Quantrimang.com', 'quantrimang': 'Quản trị mạng', 2: 'Python'}\n",
    "print(d2)"
   ]
  },
  {
   "cell_type": "code",
   "execution_count": 145,
   "id": "31ed7abe-17a3-4930-bd21-1e4b2b74c8bd",
   "metadata": {},
   "outputs": [
    {
     "name": "stdout",
     "output_type": "stream",
     "text": [
      "{1: 'a', 2: 'c', 3: 'd'}\n",
      "{2: 'c', 3: 'd', 4: 'e'}\n"
     ]
    }
   ],
   "source": [
    "d1 = { 1:\"a\", 2:\"b\" }\n",
    "d2 = { 2:\"c\", 3:\"d\" }\n",
    "d1.update(d2)\n",
    "d2[4] = \"e\"\n",
    "print(d1)\n",
    "print(d2)"
   ]
  }
 ],
 "metadata": {
  "kernelspec": {
   "display_name": "Python 3 (ipykernel)",
   "language": "python",
   "name": "python3"
  },
  "language_info": {
   "codemirror_mode": {
    "name": "ipython",
    "version": 3
   },
   "file_extension": ".py",
   "mimetype": "text/x-python",
   "name": "python",
   "nbconvert_exporter": "python",
   "pygments_lexer": "ipython3",
   "version": "3.13.5"
  }
 },
 "nbformat": 4,
 "nbformat_minor": 5
}
